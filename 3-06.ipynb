{
 "metadata": {
  "language_info": {
   "codemirror_mode": {
    "name": "ipython",
    "version": 3
   },
   "file_extension": ".py",
   "mimetype": "text/x-python",
   "name": "python",
   "nbconvert_exporter": "python",
   "pygments_lexer": "ipython3",
   "version": "3.8.2-final"
  },
  "orig_nbformat": 2,
  "kernelspec": {
   "name": "python38232bit010003abe16745528f7e879a7c64d8d0",
   "display_name": "Python 3.8.2 32-bit"
  }
 },
 "nbformat": 4,
 "nbformat_minor": 2,
 "cells": [
  {
   "cell_type": "code",
   "execution_count": 4,
   "metadata": {
    "tags": []
   },
   "outputs": [
    {
     "output_type": "error",
     "ename": "SyntaxError",
     "evalue": "invalid syntax (<ipython-input-4-f75eeaa740c5>, line 3)",
     "traceback": [
      "\u001b[1;36m  File \u001b[1;32m\"<ipython-input-4-f75eeaa740c5>\"\u001b[1;36m, line \u001b[1;32m3\u001b[0m\n\u001b[1;33m    ch random.choice(alphabet)\u001b[0m\n\u001b[1;37m       ^\u001b[0m\n\u001b[1;31mSyntaxError\u001b[0m\u001b[1;31m:\u001b[0m invalid syntax\n"
     ]
    }
   ],
   "source": [
    "import random\n",
    "alphabet = ['a','b','c','d','e','f','g','h','i','j','k','l','m','n','o','p','q','r','s','t','u','v','w','x','y','z']\n",
    "ch = random.choice(alphabet)\n",
    "while True:\n",
    "    val = input()\n",
    "    if ch == val:\n",
    "        print('OK')\n",
    "        break\n",
    "    else:\n",
    "        print('NG')"
   ]
  },
  {
   "cell_type": "code",
   "execution_count": null,
   "metadata": {},
   "outputs": [],
   "source": [
    "import random\n",
    "numbers = ['0','1','2','3','4','5','6','7','8','9']\n",
    "sample4 = random.sample(numbers,k=4)\n",
    "num4 = ''.join(sample4)\n",
    "while True:\n",
    "    val = input()\n",
    "    if val == num4:\n",
    "        print('OK')\n",
    "        break\n",
    "    else:\n",
    "        print(val,':NG')"
   ]
  },
  {
   "cell_type": "code",
   "execution_count": null,
   "metadata": {},
   "outputs": [],
   "source": [
    "import random\n",
    "numbers = ['0','1','2','3','4','5','6','7','8','9']\n",
    "num4 = (random.sample(numbers,k=4))\n",
    "while True:\n",
    "    val = input()\n",
    "    if val == num4:\n",
    "        break\n",
    "    if len(val) != 4:\n",
    "        print('input 4 numbers.')\n",
    "        continue\n",
    "    answer = ''\n",
    "    for i in range(4):\n",
    "        if num4[i] == val[i]:\n",
    "            answer += num4[i]\n",
    "        else:\n",
    "            answer += 'x'\n",
    "    print('->' + answer)"
   ]
  },
  {
   "cell_type": "code",
   "execution_count": null,
   "metadata": {},
   "outputs": [],
   "source": [
    "    if len(val) != 4:\n",
    "        print('input 4 numbers.')\n",
    "        continue"
   ]
  },
  {
   "cell_type": "code",
   "execution_count": null,
   "metadata": {},
   "outputs": [],
   "source": [
    "import random\n",
    "alphabet = ['a','b','c','d','e','f','g','h','i','j','k','l','m','n','o','p','q','r','s','t','u','v','w','x','y','z']\n",
    "ch = random.choice(alphabet)\n",
    "while ch != (val := input()):\n",
    "    print(val,':NG')\n",
    "print('OK')"
   ]
  },
  {
   "cell_type": "code",
   "execution_count": null,
   "metadata": {},
   "outputs": [],
   "source": [
    "import random\n",
    "numbers = ['0','1','2','3','4','5','6','7','8','9']\n",
    "num4 = ''.join(random.sample(numbers,k=4))\n",
    "while num4 !- (val := input()):\n",
    "    print(val,':NG')\n",
    "    print('OK')"
   ]
  }
 ]
}